{
  "nbformat": 4,
  "nbformat_minor": 0,
  "metadata": {
    "colab": {
      "private_outputs": true,
      "provenance": [],
      "gpuType": "T4"
    },
    "kernelspec": {
      "name": "python3",
      "display_name": "Python 3"
    },
    "language_info": {
      "name": "python"
    },
    "accelerator": "GPU"
  },
  "cells": [
    {
      "cell_type": "markdown",
      "source": [
        "# DeTi*k*Zify: Synthesizing Graphics Programs for Scientific Figures and Sketches with TikZ\n",
        "\n",
        "Creating high-quality scientific figures can be time-consuming and challenging,\n",
        "even though sketching ideas on paper is relatively easy. Furthermore,\n",
        "recreating existing figures that are not stored in formats preserving semantic\n",
        "information is equally complex. To tackle this problem, we introduce\n",
        "[DeTi*k*Zify](https://github.com/potamides/DeTikZify), a novel multimodal\n",
        "language model that automatically synthesizes scientific figures as\n",
        "semantics-preserving [Ti*k*Z](https://github.com/pgf-tikz/pgf) graphics\n",
        "programs based on sketches and existing figures. We also introduce an\n",
        "MCTS-based inference algorithm that enables DeTi*k*Zify to iteratively refine\n",
        "its outputs without the need for additional training.\n",
        "\n",
        "For a quick start simply click on `Runtime`&rarr;`Run all`, scroll to the last cell, and open the gradio link in a new tab. Note that you will need a GPU with *more* than 16Gb of VRAM for the 7b models, which unfortunately exceeds the free tier of Colab. The 1b models should run fine, though. But first we have to install some stuff, this could take a while:"
      ],
      "metadata": {
        "id": "QvAfZ2gIRRS7"
      }
    },
    {
      "cell_type": "code",
      "execution_count": null,
      "metadata": {
        "id": "XKGkl2eORNKo"
      },
      "outputs": [],
      "source": [
        "%%shell\n",
        "\n",
        "set -o errexit\n",
        "\n",
        "apt update\n",
        "apt install ghostscript poppler-utils\n",
        "\n",
        "git clone 'https://github.com/scottkosty/install-tl-ubuntu'\n",
        "install-tl-ubuntu/install-tl-ubuntu --repository 'https://ftp.math.utah.edu/pub/tex/historic/systems/texlive/2023/tlnet-final'\n",
        "\n",
        "# remove packages with dependency conflicts first\n",
        "pip uninstall imageio spacy torchaudio torchtext weasel fastai imgaug scikit-image -y\n",
        "pip install 'detikzify @ git+https://github.com/potamides/DeTikZify'\n",
        "pip install flash-attn --no-build-isolation"
      ]
    },
    {
      "cell_type": "markdown",
      "source": [
        "## Launch Web UI\n",
        "\n",
        "Now we can start the web UI and obtain a public gradio URL. Note that it is best used in light mode, as scientific figures mostly use black fonts on a white background. We enforce this using `light=True`."
      ],
      "metadata": {
        "id": "JMkslr8LX4Ly"
      }
    },
    {
      "cell_type": "code",
      "source": [
        "%env PATH=/opt/texbin:$PATH\n",
        "from detikzify.webui import build_ui\n",
        "from torch.cuda import get_device_properties\n",
        "\n",
        "# if we have enough memory, select DeTikZify-DS-7b, else we use DeTikZify-DS1.3b\n",
        "total_memory = get_device_properties(0).total_memory\n",
        "model = f\"detikzify-ds-{'7' if total_memory > 15835660288 else '1.3'}b\"\n",
        "\n",
        "build_ui(light=True, model=model).queue().launch(share=True, debug=True)"
      ],
      "metadata": {
        "id": "AgWwtZENYP0I"
      },
      "execution_count": null,
      "outputs": []
    }
  ]
}