{
 "cells": [
  {
   "cell_type": "code",
   "execution_count": null,
   "id": "ca81222c",
   "metadata": {},
   "outputs": [],
   "source": [
    "giphy_api_key = ''"
   ]
  },
  {
   "cell_type": "code",
   "execution_count": null,
   "id": "53144eca",
   "metadata": {},
   "outputs": [],
   "source": [
    "import warnings\n",
    "warnings.filterwarnings(\"ignore\", category=DeprecationWarning) \n"
   ]
  },
  {
   "cell_type": "code",
   "execution_count": null,
   "id": "6ae35754",
   "metadata": {},
   "outputs": [],
   "source": [
    "import requests\n",
    "\n",
    "def search_gifs(query, api_key, limit=10):\n",
    "    \"\"\"\n",
    "    Search for GIFs based on text using the Giphy API.\n",
    "\n",
    "    Parameters:\n",
    "    - query: Text to search for.\n",
    "    - api_key: Your Giphy API key.\n",
    "    - limit: The maximum number of GIFs to return (default is 10).\n",
    "\n",
    "    Returns:\n",
    "    A list of URLs for the found GIFs.\n",
    "    \"\"\"\n",
    "    base_url = \"https://api.giphy.com/v1/gifs/search\"\n",
    "    params = {\n",
    "        \"api_key\": api_key,\n",
    "        \"q\": query,\n",
    "        \"limit\": limit\n",
    "    }\n",
    "    \n",
    "    response = requests.get(base_url, params=params)\n",
    "    \n",
    "    if response.status_code == 200:\n",
    "        data = response.json()['data']\n",
    "        gif_urls = [gif['images']['original']['url'] for gif in data]\n",
    "        return gif_urls\n",
    "    else:\n",
    "        print(f\"Error: {response.status_code}\")\n",
    "        return []\n",
    "\n",
    "# Example usage\n",
    "query = \"AI!!\"  # Example search query\n",
    "gif_urls = search_gifs(query, giphy_api_key)\n",
    "\n",
    "for url in gif_urls:\n",
    "    print(url)\n"
   ]
  },
  {
   "cell_type": "code",
   "execution_count": null,
   "id": "ab165733",
   "metadata": {},
   "outputs": [],
   "source": [
    "from IPython.display import Image as Img\n"
   ]
  },
  {
   "cell_type": "code",
   "execution_count": null,
   "id": "42ee23d3",
   "metadata": {},
   "outputs": [],
   "source": [
    "from PIL import Image, ImageDraw, ImageFont, ImageSequence\n",
    "import requests\n",
    "from io import BytesIO\n",
    "\n"
   ]
  },
  {
   "cell_type": "code",
   "execution_count": null,
   "id": "60fec6d3",
   "metadata": {},
   "outputs": [],
   "source": [
    "# Define your desired data structure.\n",
    "from langchain_community.llms import Ollama\n",
    "from typing import List\n",
    "\n",
    "from langchain.output_parsers import PydanticOutputParser\n",
    "from langchain.prompts import PromptTemplate\n",
    "from langchain_core.pydantic_v1 import BaseModel, Field, validator\n",
    "from langchain_openai import ChatOpenAI\n",
    "from langchain_core.messages import HumanMessage\n",
    "from langchain_mistralai.chat_models import ChatMistralAI\n",
    "\n",
    "class Meme(BaseModel):\n",
    "    text: str = Field(description=\"the rewritten meme\")\n",
    "    keywords: List = Field(description=\"the list of releveant search keywords\")\n",
    "\n",
    "        \n",
    "class Memer:\n",
    "    def __init__(self, local=False):\n",
    "        \n",
    "        if local:\n",
    "            llm = Ollama(model=\"mistral:instruct\", temperature=0.6)\n",
    "        else:\n",
    "            llm = ChatMistralAI(mistral_api_key='', model = 'mistral-small')\n",
    "        parser = PydanticOutputParser(pydantic_object=Meme)\n",
    "\n",
    "        prompt = PromptTemplate(\n",
    "            template=\"Answer the user query.\\n{format_instructions}\\n{query}\\n\",\n",
    "            input_variables=[\"query\"],\n",
    "            partial_variables={\"format_instructions\": parser.get_format_instructions()},\n",
    "        )\n",
    "        \n",
    "\n",
    "\n",
    "        chain = prompt | llm | parser\n",
    "        self.chain = chain\n",
    "    \n",
    "    def get(self, text):\n",
    "        c = 0\n",
    "        while c < 5:\n",
    "            try:\n",
    "               \n",
    "                ans = self.chain.invoke({\"query\": f'''You are a assistant who \n",
    "                should provide a funny shorter text about the given text and list of relevant memes to search memes on giphy when\n",
    "                i provide a text {text}'''})\n",
    "                \n",
    "                return ans\n",
    "            except:\n",
    "                pass\n",
    "            c+=1\n",
    "            \n"
   ]
  },
  {
   "cell_type": "code",
   "execution_count": null,
   "id": "f026f739",
   "metadata": {},
   "outputs": [],
   "source": [
    "from PIL import Image, ImageDraw, ImageFont, ImageSequence\n",
    "import requests\n",
    "from io import BytesIO\n",
    "import textwrap\n",
    "\n",
    "cache = dict()\n",
    "\n",
    "def create_gif_meme_with_text_enhanced(gif_url, text, font_path=\"Arial.ttf\", font_size=20, wrap_width=40):\n",
    "    \"\"\"\n",
    "    Create a GIF meme by adding wrapped text with a background box to each frame.\n",
    "\n",
    "    Parameters:\n",
    "    - gif_url: URL of the source GIF.\n",
    "    - text: The text to add to the GIF.\n",
    "    - font_path: Path to the font file.\n",
    "    - font_size: Font size for the text.\n",
    "    - wrap_width: Maximum line width before wrapping the text.\n",
    "    \"\"\"\n",
    "    # Download the GIF\n",
    "    if gif_url not  in cache:\n",
    "        response = requests.get(gif_url)\n",
    "        gif = Image.open(BytesIO(response.content))\n",
    "        cache[gif_url] = gif\n",
    "        \n",
    "    gif = cache[gif_url]\n",
    "    # Create font object for drawing text\n",
    "    font = ImageFont.truetype(font_path, font_size)\n",
    "\n",
    "    # Wrap the text\n",
    "    wrapped_text = textwrap.fill(text.upper(), wrap_width)\n",
    "\n",
    "    # Process each frame of the original GIF\n",
    "    frames = []\n",
    "    for frame in ImageSequence.Iterator(gif):\n",
    "        rgba_frame = frame.convert(\"RGBA\")\n",
    "        draw = ImageDraw.Draw(rgba_frame)\n",
    "\n",
    "        # Calculate text size and position\n",
    "        text_width, text_height = draw.textsize(wrapped_text, font=font)\n",
    "        text_x = (rgba_frame.width - text_width) // 2\n",
    "        text_y = rgba_frame.height - text_height - 10\n",
    "\n",
    "        # Draw semi-transparent rectangle as text background\n",
    "        draw.rectangle(((text_x, text_y), (text_x + text_width, text_y + text_height)), fill=(0, 0, 0, 127))\n",
    "\n",
    "        # Draw the wrapped text\n",
    "        draw.multiline_text((text_x, text_y), wrapped_text, fill=\"white\", font=font, align=\"center\")\n",
    "        \n",
    "        frames.append(rgba_frame.copy())\n",
    "\n",
    "    # Save the frames as a new GIF\n",
    "    output_path = \"enhanced_meme.gif\"\n",
    "    frames[0].save(output_path, save_all=True, append_images=frames[1:], optimize=False, loop=0, duration=gif.info['duration'])\n",
    "\n",
    "    return output_path\n",
    "\n",
    "\n"
   ]
  },
  {
   "cell_type": "code",
   "execution_count": null,
   "id": "64dbc790",
   "metadata": {},
   "outputs": [],
   "source": [
    "# Example usage (ensure you replace the placeholder values appropriately)\n",
    "gif_url = gif_urls[4] # Replace with your actual GIF URL\n",
    "text = \"WALL-E\"\n",
    "output_path = create_gif_meme_with_text_enhanced(gif_url, text, font_size=20, wrap_width=30)\n",
    "print(f\"GIF meme created at {output_path}\")"
   ]
  },
  {
   "cell_type": "code",
   "execution_count": null,
   "id": "1d23fd39",
   "metadata": {},
   "outputs": [],
   "source": [
    "Img(filename=\"enhanced_meme.gif\")"
   ]
  },
  {
   "cell_type": "code",
   "execution_count": null,
   "id": "5f632b62",
   "metadata": {},
   "outputs": [],
   "source": [
    "memer = Memer()"
   ]
  },
  {
   "cell_type": "code",
   "execution_count": null,
   "id": "accfb75a",
   "metadata": {},
   "outputs": [],
   "source": [
    "meme = memer.get('open ai to be closed ai')"
   ]
  },
  {
   "cell_type": "code",
   "execution_count": null,
   "id": "966db3ee",
   "metadata": {},
   "outputs": [],
   "source": [
    "text ='open ai to be closed ai'\n",
    "\n",
    "for t in meme.keywords:\n",
    "    gif_urls = search_gifs(t, giphy_api_key)  # Make sure you have defined `search_gifs` function from previous examples\n",
    "\n",
    "    # Example usage\n",
    "    gif_url = gif_urls[0]  # Repla ce with your actual GIF URL\n",
    "\n",
    "    output_path = create_gif_meme_with_text_enhanced(gif_url, text)\n",
    "    gif = Img(filename=\"enhanced_meme.gif\")\n",
    "    display(gif)"
   ]
  },
  {
   "cell_type": "code",
   "execution_count": null,
   "id": "624002f0",
   "metadata": {},
   "outputs": [],
   "source": [
    "text ='open ai to be closed ai'\n",
    "\n",
    "for t in meme.keywords:\n",
    "    gif_urls = search_gifs(t, giphy_api_key)  # Make sure you have defined `search_gifs` function from previous examples\n",
    "\n",
    "    # Example usage\n",
    "    gif_url = gif_urls[1]  # Repla ce with your actual GIF URL\n",
    "\n",
    "    output_path = create_gif_meme_with_text_enhanced(gif_url, text)\n",
    "    gif = Img(filename=\"enhanced_meme.gif\")\n",
    "    display(gif)"
   ]
  },
  {
   "cell_type": "code",
   "execution_count": null,
   "id": "69769c41",
   "metadata": {},
   "outputs": [],
   "source": [
    "text ='busy working!!!'\n",
    "meme = memer.get(text)\n",
    "for t in meme.keywords:\n",
    "    gif_urls = search_gifs(t, giphy_api_key)  # Make sure you have defined `search_gifs` function from previous examples\n",
    "\n",
    "    # Example usage\n",
    "    gif_url = gif_urls[1]  # Repla ce with your actual GIF URL\n",
    "\n",
    "    output_path = create_gif_meme_with_text_enhanced(gif_url, meme.text)\n",
    "    gif = Img(filename=\"enhanced_meme.gif\")\n",
    "    display(gif)"
   ]
  },
  {
   "cell_type": "code",
   "execution_count": null,
   "id": "5734c8f9",
   "metadata": {},
   "outputs": [],
   "source": []
  },
  {
   "cell_type": "code",
   "execution_count": null,
   "id": "44b6b14b",
   "metadata": {},
   "outputs": [],
   "source": [
    "text ='Wow!!'\n",
    "meme = memer.get(text)\n",
    "for t in meme.keywords:\n",
    "    gif_urls = search_gifs(t, giphy_api_key)  # Make sure you have defined `search_gifs` function from previous examples\n",
    "\n",
    "    # Example usage\n",
    "    gif_url = gif_urls[0]  # Repla ce with your actual GIF URL\n",
    "\n",
    "    output_path = create_gif_meme_with_text_enhanced(gif_url, text)\n",
    "    gif = Img(filename=\"enhanced_meme.gif\")\n",
    "    display(gif)"
   ]
  },
  {
   "cell_type": "code",
   "execution_count": null,
   "id": "0799951d",
   "metadata": {},
   "outputs": [],
   "source": [
    "for t in meme.keywords:\n",
    "    gif_urls = search_gifs(t, giphy_api_key)  # Make sure you have defined `search_gifs` function from previous examples\n",
    "\n",
    "    # Example usage\n",
    "    gif_url = gif_urls[1]  # Repla ce with your actual GIF URL\n",
    "\n",
    "    output_path = create_gif_meme_with_text_enhanced(gif_url, text, wrap_width=30)\n",
    "    gif = Img(filename=\"enhanced_meme.gif\")\n",
    "    display(gif)"
   ]
  },
  {
   "cell_type": "code",
   "execution_count": null,
   "id": "e4f9054f",
   "metadata": {},
   "outputs": [],
   "source": [
    "text ='Listen to Me Her Not A Real People'\n",
    "meme = memer.get(text)\n",
    "\n",
    "for t in meme.keywords:\n",
    "    gif_urls = search_gifs(t, giphy_api_key)  # Make sure you have defined `search_gifs` function from previous examples\n",
    "\n",
    "    # Example usage\n",
    "    gif_url = gif_urls[0]  # Repla ce with your actual GIF URL\n",
    "\n",
    "    output_path = create_gif_meme_with_text_enhanced(gif_url, text, wrap_width=30)\n",
    "    gif = Img(filename=\"enhanced_meme.gif\")\n",
    "    display(gif)"
   ]
  }
 ],
 "metadata": {
  "kernelspec": {
   "display_name": "cv",
   "language": "python",
   "name": "cv"
  },
  "language_info": {
   "codemirror_mode": {
    "name": "ipython",
    "version": 3
   },
   "file_extension": ".py",
   "mimetype": "text/x-python",
   "name": "python",
   "nbconvert_exporter": "python",
   "pygments_lexer": "ipython3",
   "version": "3.11.0"
  }
 },
 "nbformat": 4,
 "nbformat_minor": 5
}
